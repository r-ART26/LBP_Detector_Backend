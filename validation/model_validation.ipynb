{
 "cells": [
  {
   "cell_type": "code",
   "execution_count": 2,
   "id": "e6ec0710",
   "metadata": {},
   "outputs": [
    {
     "name": "stderr",
     "output_type": "stream",
     "text": [
      "/home/romero/.pyenv/versions/LBP/lib/python3.12/site-packages/tqdm/auto.py:21: TqdmWarning: IProgress not found. Please update jupyter and ipywidgets. See https://ipywidgets.readthedocs.io/en/stable/user_install.html\n",
      "  from .autonotebook import tqdm as notebook_tqdm\n"
     ]
    },
    {
     "name": "stdout",
     "output_type": "stream",
     "text": [
      "Downloading from https://www.kaggle.com/api/v1/datasets/download/ngoduy/dataset-for-face-detection?dataset_version_number=1...\n"
     ]
    },
    {
     "name": "stderr",
     "output_type": "stream",
     "text": [
      "100%|██████████| 3.42G/3.42G [05:25<00:00, 11.3MB/s]"
     ]
    },
    {
     "name": "stdout",
     "output_type": "stream",
     "text": [
      "Extracting files...\n"
     ]
    },
    {
     "name": "stderr",
     "output_type": "stream",
     "text": [
      "\n"
     ]
    },
    {
     "name": "stdout",
     "output_type": "stream",
     "text": [
      "Dataset guardado en: /home/romero/.cache/kagglehub/datasets/ngoduy/dataset-for-face-detection/versions/1\n"
     ]
    }
   ],
   "source": [
    "import kagglehub\n",
    "\n",
    "# Descargar el dataset de rostro\n",
    "path = kagglehub.dataset_download(\"ngoduy/dataset-for-face-detection\")\n",
    "\n",
    "print(\"Dataset guardado en:\", path)"
   ]
  },
  {
   "cell_type": "code",
   "execution_count": null,
   "id": "61ee9003",
   "metadata": {},
   "outputs": [
    {
     "name": "stdout",
     "output_type": "stream",
     "text": [
      "Se detectaron 1 rostro(s)\n"
     ]
    }
   ],
   "source": [
    "import cv2\n",
    "import numpy as np\n",
    "\n",
    "# === CONFIGURACIÓN ===\n",
    "CASCADE_PATH = \"/home/romero/Escritorio/LBPDetectorBackend/classifier/cascade.xml\"\n",
    "FACE_PATH = \"/home/romero/Escritorio/LBP/neg/neg_00000.jpg\"  # Imagen 70x70\n",
    "CANVAS_SIZE = (200, 200)  # Imagen más grande\n",
    "\n",
    "# === CARGAR CLASIFICADOR ===\n",
    "face_cascade = cv2.CascadeClassifier(CASCADE_PATH)\n",
    "if face_cascade.empty():\n",
    "    raise IOError(\"No se pudo cargar el clasificador\")\n",
    "\n",
    "# === CARGAR ROSTRO Y CONVERTIR A ESCALA DE GRISES ===\n",
    "face_img = cv2.imread(FACE_PATH, cv2.IMREAD_GRAYSCALE)\n",
    "if face_img is None:\n",
    "    raise ValueError(\"No se pudo cargar la imagen del rostro\")\n",
    "\n",
    "# === CREAR LIENZO Y PEGAR EL ROSTRO EN EL CENTRO ===\n",
    "canvas = np.zeros(CANVAS_SIZE, dtype=np.uint8)  # fondo negro\n",
    "y_offset = (CANVAS_SIZE[0] - face_img.shape[0]) // 2\n",
    "x_offset = (CANVAS_SIZE[1] - face_img.shape[1]) // 2\n",
    "canvas[y_offset:y_offset+face_img.shape[0], x_offset:x_offset+face_img.shape[1]] = face_img\n",
    "\n",
    "# === DETECCIÓN ===\n",
    "detections = face_cascade.detectMultiScale(\n",
    "    canvas,\n",
    "    scaleFactor=1.1,\n",
    "    minNeighbors=3,\n",
    "    minSize=(24, 24)\n",
    ")\n",
    "\n",
    "# === MOSTRAR RESULTADO ===\n",
    "for (x, y, w, h) in detections:\n",
    "    cv2.rectangle(canvas, (x, y), (x + w, y + h), (255, 255, 255), 2)\n",
    "\n",
    "cv2.imshow(\"Resultado de la detección\", canvas)\n",
    "print(f\"Se detectaron {len(detections)} rostro(s)\")\n",
    "cv2.waitKey(0)\n",
    "cv2.destroyAllWindows()\n"
   ]
  }
 ],
 "metadata": {
  "kernelspec": {
   "display_name": "LBP",
   "language": "python",
   "name": "python3"
  },
  "language_info": {
   "codemirror_mode": {
    "name": "ipython",
    "version": 3
   },
   "file_extension": ".py",
   "mimetype": "text/x-python",
   "name": "python",
   "nbconvert_exporter": "python",
   "pygments_lexer": "ipython3",
   "version": "3.12.3"
  }
 },
 "nbformat": 4,
 "nbformat_minor": 5
}
